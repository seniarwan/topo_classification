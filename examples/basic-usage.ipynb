{
 "cells": [
  {
   "cell_type": "markdown",
   "metadata": {},
   "source": [
    "# Basic Usage - Topographic Classification\n",
    "\n",
    "Tutorial dasar penggunaan package topoclassify untuk klasifikasi topografi 24 kelas"
   ]
  },
  {
   "cell_type": "code",
   "execution_count": null,
   "metadata": {},
   "outputs": [],
   "source": [
    "# Import libraries\n",
    "import numpy as np\n",
    "import matplotlib.pyplot as plt\n",
    "from topoclassify import TopographicClassifier, quick_classify\n",
    "from topoclassify.utils import plot_results, save_geotiff, get_class_stats"
   ]
  },
  {
   "cell_type": "markdown",
   "metadata": {},
   "source": [
    "## 1. Quick Classification (1 baris kode)"
   ]
  },
  {
   "cell_type": "code",
   "execution_count": null,
   "metadata": {},
   "outputs": [],
   "source": [
    "# Ganti dengan path DEM Anda\n",
    "dem_path = \"path/to/your/dem.tif\"\n",
    "\n",
    "# Klasifikasi cepat\n",
    "result = quick_classify(dem_path, output_path=\"classification_result.tif\")"
   ]
  },
  {
   "cell_type": "markdown",
   "metadata": {},
   "source": [
    "## 2. Step-by-Step Classification"
   ]
  },
  {
   "cell_type": "code",
   "execution_count": null,
   "metadata": {},
   "outputs": [],
   "source": [
    "# Inisialisasi classifier\n",
    "classifier = TopographicClassifier(dem_path)\n",
    "\n",
    "# Info basic DEM\n",
    "print(f\"DEM shape: {classifier.dem_data.shape}\")\n",
    "print(f\"DEM elevation range: {np.nanmin(classifier.dem_data):.1f} - {np.nanmax(classifier.dem_data):.1f} m\")\n",
    "print(f\"DEM coordinate system: {classifier.profile['crs']}\")"
   ]
  },
  {
   "cell_type": "code",
   "execution_count": null,
   "metadata": {},
   "outputs": [],
   "source": [
    "# Hitung metrik topografi secara terpisah\n",
    "slope = classifier.slope\n",
    "convexity = classifier.convexity\n",
    "texture = classifier.texture\n",
    "\n",
    "print(\"Metrics calculated successfully!\")\n",
    "print(f\"Slope range: {np.nanmin(slope):.2f} - {np.nanmax(slope):.2f} degrees\")\n",
    "print(f\"Convexity range: {np.nanmin(convexity):.3f} - {np.nanmax(convexity):.3f}\")\n",
    "print(f\"Texture range: {np.nanmin(texture):.3f} - {np.nanmax(texture):.3f}\")"
   ]
  },
  {
   "cell_type": "code",
   "execution_count": null,
   "metadata": {},
   "outputs": [],
   "source": [
    "# Jalankan klasifikasi penuh (24 kelas)\n",
    "classification = classifier.classify()"
   ]
  },
  {
   "cell_type": "markdown",
   "metadata": {},
   "source": [
    "## 3. Visualisasi Hasil"
   ]
  },
  {
   "cell_type": "code",
   "execution_count": null,
   "metadata": {},
   "outputs": [],
   "source": [
    "# Plot hasil klasifikasi dan metrik\n",
    "plot_results(classification, slope, convexity, texture)"
   ]
  },
  {
   "cell_type": "code",
   "execution_count": null,
   "metadata": {},
   "outputs": [],
   "source": [
    "# Plot distribusi kelas\n",
    "unique_classes, counts = np.unique(classification[classification > 0], return_counts=True)\n",
    "\n",
    "plt.figure(figsize=(15, 5))\n",
    "plt.bar(unique_classes, counts, color='steelblue', alpha=0.7)\n",
    "plt.xlabel('Topographic Class')\n",
    "plt.ylabel('Number of Pixels')\n",
    "plt.title('Distribution of Topographic Classes')\n",
    "plt.xticks(unique_classes)\n",
    "plt.grid(True, alpha=0.3)\n",
    "plt.show()\n",
    "\n",
    "print(f\"Total classes found: {len(unique_classes)}\")\n",
    "print(f\"Classes: {list(unique_classes)}\")"
   ]
  },
  {
   "cell_type": "markdown",
   "metadata": {},
   "source": [
    "## 4. Analisis Statistik"
   ]
  },
  {
   "cell_type": "code",
   "execution_count": null,
   "metadata": {},
   "outputs": [],
   "source": [
    "# Dapatkan statistik per kelas\n",
    "stats = get_class_stats(classification, slope, convexity, texture)\n",
    "\n",
    "# Tampilkan dalam format tabel\n",
    "print(\"Class Statistics:\")\n",
    "print(\"-\" * 85)\n",
    "print(f\"{'Class':<6} {'Pixels':<8} {'Slope (°)':<10} {'Convexity':<12} {'Texture':<10} {'Area %':<8}\")\n",
    "print(\"-\" * 85)\n",
    "\n",
    "total_pixels = np.sum([s['pixel_count'] for s in stats.values()])\n",
    "\n",
    "for class_id in sorted(stats.keys()):\n",
    "    stat = stats[class_id]\n",
    "    area_pct = (stat['pixel_count'] / total_pixels) * 100\n",
    "    print(f\"{class_id:<6} {stat['pixel_count']:<8} {stat['mean_slope']:<10.2f} \"\n",
    "          f\"{stat['mean_convexity']:<12.3f} {stat['mean_texture']:<10.3f} {area_pct:<8.2f}\")"
   ]
  },
  {
   "cell_type": "code",
   "execution_count": null,
   "metadata": {},
   "outputs": [],
   "source": [
    "# Dapatkan deskripsi kelas\n",
    "descriptions = classifier.get_class_descriptions()\n",
    "\n",
    "print(\"\\nClass Descriptions (Iwahashi & Pike 2007):\")\n",
    "print(\"=\" * 60)\n",
    "for class_id in sorted(unique_classes):\n",
    "    if class_id in descriptions and class_id in stats:\n",
    "        pixel_count = stats[class_id]['pixel_count']\n",
    "        area_pct = (pixel_count / total_pixels) * 100\n",
    "        print(f\"Class {class_id:2d} ({area_pct:5.1f}%): {descriptions[class_id]}\")"
   ]
  },
  {
   "cell_type": "markdown",
   "metadata": {},
   "source": [
    "## 5. Simpan Hasil"
   ]
  },
  {
   "cell_type": "code",
   "execution_count": null,
   "metadata": {},
   "outputs": [],
   "source": [
    "# Simpan klasifikasi sebagai GeoTIFF\n",
    "save_geotiff(classification, \"topographic_classification_24class.tif\", classifier.profile)\n",
    "\n",
    "# Simpan metrik individual juga\n",
    "save_geotiff((slope * 100).astype(np.uint16), \"slope_degrees_x100.tif\", classifier.profile)\n",
    "save_geotiff((convexity * 1000).astype(np.uint16), \"convexity_x1000.tif\", classifier.profile)\n",
    "save_geotiff((texture * 1000).astype(np.uint16), \"texture_x1000.tif\", classifier.profile)\n",
    "\n",
    "print(\"All results saved successfully!\")"
   ]
  },
  {
   "cell_type": "markdown",
   "metadata": {},
   "source": [
    "## 6. Export Statistik ke CSV"
   ]
  },
  {
   "cell_type": "code",
   "execution_count": null,
   "metadata": {},
   "outputs": [],
   "source": [
    "import pandas as pd\n",
    "\n",
    "# Buat DataFrame dari statistik\n",
    "stats_data = []\n",
    "for class_id in sorted(stats.keys()):\n",
    "    stat = stats[class_id]\n",
    "    area_pct = (stat['pixel_count'] / total_pixels) * 100\n",
    "    \n",
    "    stats_data.append({\n",
    "        'Class': class_id,\n",
    "        'Description': descriptions.get(class_id, 'Unknown'),\n",
    "        'Pixel_Count': stat['pixel_count'],\n",
    "        'Area_Percent': area_pct,\n",
    "        'Mean_Slope': stat['mean_slope'],\n",
    "        'Mean_Convexity': stat['mean_convexity'],\n",
    "        'Mean_Texture': stat['mean_texture']\n",
    "    })\n",
    "\n",
    "df = pd.DataFrame(stats_data)\n",
    "df.to_csv('topographic_classification_stats.csv', index=False)\n",
    "\n",
    "print(\"Statistics exported to CSV!\")\n",
    "df.head()"
   ]
  }
 ],
 "metadata": {
  "kernelspec": {
   "display_name": "Python 3",
   "language": "python",
   "name": "python3"
  },
  "language_info": {
   "name": "python",
   "version": "3.8.5"
  }
 },
 "nbformat": 4,
 "nbformat_minor": 4
}
