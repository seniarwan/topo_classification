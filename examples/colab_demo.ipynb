{
 "cells": [
  {
   "cell_type": "markdown",
   "metadata": {},
   "source": [
    "# Demo Klasifikasi Topografi di Google Colab\n",
    "\n",
    "Demo penggunaan package topoclassify untuk klasifikasi topografi dengan Python"
   ]
  },
  {
   "cell_type": "markdown",
   "metadata": {},
   "source": [
    "## 1. Setup dan Instalasi"
   ]
  },
  {
   "cell_type": "code",
   "execution_count": null,
   "metadata": {},
   "outputs": [],
   "source": [
    "# Clone repository dari GitHub\n",
    "!git clone https://github.com/seniarwan/topographic-classification.git\n",
    "%cd topographic-classification"
   ]
  },
  {
   "cell_type": "code",
   "execution_count": null,
   "metadata": {},
   "outputs": [],
   "source": [
    "# Install package\n",
    "!pip install -e ."
   ]
  },
  {
   "cell_type": "markdown",
   "metadata": {},
   "source": [
    "## 2. Import Library"
   ]
  },
  {
   "cell_type": "code",
   "execution_count": null,
   "metadata": {},
   "outputs": [],
   "source": [
    "import numpy as np\n",
    "import matplotlib.pyplot as plt\n",
    "from topoclassify import TopographicClassifier, quick_classify\n",
    "from topoclassify.utils import plot_results, save_geotiff, get_class_stats"
   ]
  },
  {
   "cell_type": "markdown",
   "metadata": {},
   "source": [
    "## 3. Upload Data DEM\n",
    "\n",
    "Upload file DEM Anda atau gunakan data sample"
   ]
  },
  {
   "cell_type": "code",
   "execution_count": null,
   "metadata": {},
   "outputs": [],
   "source": [
    "# Jika ada sample data\n",
    "dem_path = \"data/sample_dem.tif\"\n",
    "\n",
    "# Atau upload file\n",
    "from google.colab import files\n",
    "uploaded = files.upload()\n",
    "dem_path = list(uploaded.keys())[0]  # Ambil file pertama yang diupload"
   ]
  },
  {
   "cell_type": "markdown",
   "metadata": {},
   "source": [
    "## 4. Klasifikasi Cepat"
   ]
  },
  {
   "cell_type": "code",
   "execution_count": null,
   "metadata": {},
   "outputs": [],
   "source": [
    "# Klasifikasi dengan fungsi cepat\n",
    "result = quick_classify(dem_path, show_plot=True)"
   ]
  },
  {
   "cell_type": "markdown",
   "metadata": {},
   "source": [
    "## 5. Klasifikasi Manual (Step by Step)"
   ]
  },
  {
   "cell_type": "code",
   "execution_count": null,
   "metadata": {},
   "outputs": [],
   "source": [
    "# Inisialisasi classifier\n",
    "classifier = TopographicClassifier(dem_path)\n",
    "\n",
    "print(f\"DEM shape: {classifier.dem_data.shape}\")\n",
    "print(f\"DEM min/max: {np.nanmin(classifier.dem_data):.2f} / {np.nanmax(classifier.dem_data):.2f}\")"
   ]
  },
  {
   "cell_type": "code",
   "execution_count": null,
   "metadata": {},
   "outputs": [],
   "source": [
    "# Hitung metrik topografi\n",
    "slope = classifier.slope\n",
    "convexity = classifier.convexity  \n",
    "texture = classifier.texture\n",
    "\n",
    "print(\"Metrik berhasil dihitung!\")"
   ]
  },
  {
   "cell_type": "code",
   "execution_count": null,
   "metadata": {},
   "outputs": [],
   "source": [
    "# Jalankan klasifikasi\n",
    "classification = classifier.classify()"
   ]
  },
  {
   "cell_type": "code",
   "execution_count": null,
   "metadata": {},
   "outputs": [],
   "source": [
    "# Plot hasil\n",
    "plot_results(classification, slope, convexity, texture)"
   ]
  },
  {
   "cell_type": "markdown",
   "metadata": {},
   "source": [
    "## 6. Analisis Statistik"
   ]
  },
  {
   "cell_type": "code",
   "execution_count": null,
   "metadata": {},
   "outputs": [],
   "source": [
    "# Dapatkan statistik per kelas\n",
    "stats = get_class_stats(classification, slope, convexity, texture)\n",
    "\n",
    "# Print statistik\n",
    "print(\"Statistik per kelas:\")\n",
    "print(\"-\" * 80)\n",
    "print(f\"{'Kelas':<6} {'Pixel':<8} {'Slope':<8} {'Convexity':<10} {'Texture':<8}\")\n",
    "print(\"-\" * 80)\n",
    "\n",
    "for class_id, stat in stats.items():\n",
    "    print(f\"{class_id:<6} {stat['pixel_count']:<8} {stat['mean_slope']:<8.2f} \"\n",
    "          f\"{stat['mean_convexity']:<10.3f} {stat['mean_texture']:<8.3f}\")"
   ]
  },
  {
   "cell_type": "markdown",
   "metadata": {},
   "source": [
    "## 7. Simpan Hasil"
   ]
  },
  {
   "cell_type": "code",
   "execution_count": null,
   "metadata": {},
   "outputs": [],
   "source": [
    "# Simpan sebagai GeoTIFF\n",
    "save_geotiff(classification, \"topographic_classification.tif\", classifier.profile)\n",
    "\n",
    "# Download hasil\n",
    "files.download(\"topographic_classification.tif\")"
   ]
  },
  {
   "cell_type": "markdown",
   "metadata": {},
   "source": [
    "## 8. Visualisasi Tambahan"
   ]
  },
  {
   "cell_type": "code",
   "execution_count": null,
   "metadata": {},
   "outputs": [],
   "source": [
    "# Plot histogram kelas\n",
    "unique, counts = np.unique(classification[classification > 0], return_counts=True)\n",
    "\n",
    "plt.figure(figsize=(12, 6))\n",
    "plt.bar(unique, counts)\n",
    "plt.xlabel('Kelas Topografi')\n",
    "plt.ylabel('Jumlah Pixel')\n",
    "plt.title('Distribusi Kelas Topografi')\n",
    "plt.grid(True, alpha=0.3)\n",
    "plt.show()"
   ]
  }
 ],
 "metadata": {
  "kernelspec": {
   "display_name": "Python 3",
   "language": "python",
   "name": "python3"
  },
  "language_info": {
   "codemirror_mode": {
    "name": "ipython",
    "version": 3
   },
   "file_extension": ".py",
   "mimetype": "text/x-python",
   "name": "python",
   "nbconvert_exporter": "python",
   "pygments_lexer": "ipython3",
   "version": "3.8.5"
  }
 },
 "nbformat": 4,
 "nbformat_minor": 4
}
